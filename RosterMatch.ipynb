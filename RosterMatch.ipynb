{
  "cells": [
    {
      "metadata": {
        "trusted": true
      },
      "cell_type": "code",
      "source": "# import modules\nimport requests\n\n# Request headers set Subscription key which provides access to this API. Found in your Cognitive Services accounts.\nheaders = {\n    'Content-Type': 'application/json',\n    'Ocp-Apim-Subscription-Key': 'c97a0ae45e07427a9f0a60e73574395b',\n}\n",
      "execution_count": 1,
      "outputs": []
    },
    {
      "metadata": {},
      "cell_type": "markdown",
      "source": "## Create a Person Group \nGive a name to the Person Group you are creating. Since I'm creating a Toronto Raptors LookAlike, I would use a personGroupId like \"raptors\". Be sure to check the values for the following:\n* personGroupID: Name to Identify the Group of People\n* body[\"Name\"]: The information that will come back when the PersonGroupId is called \n* body[\"userData\"]: Option information about the Person Group\n* FaceApiCreateLargePersonGroup : ensure the Request URL is correct according to the region where your cognitive services is deployed"
    },
    {
      "metadata": {
        "trusted": true
      },
      "cell_type": "code",
      "source": "#Create a Person Group \npersonGroupId=\"rapsroster\"\n\nbody = dict()\nbody[\"name\"] = \"Toronto Raptors\"\nbody[\"userData\"] = \"2018-2019 Raptors\"\nbody = str(body)\n\n#Request URL \nFaceApiCreateLargePersonGroup = 'https://eastus.api.cognitive.microsoft.com/face/v1.0/persongroups/'+personGroupId \n\ntry:\n    # REST Call \n    response = requests.put(FaceApiCreateLargePersonGroup, data=body, headers=headers) \n    print(\"RESPONSE:\" + str(response.status_code))\n\nexcept Exception as e:\n    print(e)",
      "execution_count": 3,
      "outputs": [
        {
          "output_type": "stream",
          "text": "RESPONSE:200\n",
          "name": "stdout"
        }
      ]
    },
    {
      "metadata": {},
      "cell_type": "markdown",
      "source": "## Add Players to a Person Group\nThis is done is 2 steps: \n* using the [Person Group - Create Person](https://westus.dev.cognitive.microsoft.com/docs/services/563879b61984550e40cbbe8d/operations/563879b61984550f3039523c) API, create an ID for the player \n* using the [Person Group - Detect Group](https://westus.dev.cognitive.microsoft.com/docs/services/563879b61984550e40cbbe8d/operations/563879b61984550f30395238) API, add an assortment of Faces of the same player (Persisted Faces) to get a better profile of the player\n\nWe will then repeat this for each player. \n\n#### Variables to Change\n* body[name] : name of the player (i.e. \"Kahwi Leonard\")\n* body[userData] : Additional player info (i.e. \"Fun Guy\")\n* FaceApiCreatePerson: Ensure the Request URL is correct according to the region where your cognitive services is deployed\n* Image List : Should be a list of 5 URL's to random images of the selected player's face\n* FaceApiCreatePerson: Ensure the Request URL is correct according to the region where your cognitive services is deployed\n\n#### For the purposed of this demo I will be adding: \n* Kahwi Leonard\n* Kyle Lowry \n* Serge Ibaka\n* Fred VanVleet \n* Pascal Siakam\n* Marc Gasol \n* Danny Green"
    },
    {
      "metadata": {
        "trusted": true
      },
      "cell_type": "code",
      "source": "#Add Serge Ibaka to the Person Group \n\n#Request Body\nbody = dict()\nbody[\"name\"] = \"Serge Ibaka\"\nbody[\"userData\"] = \"Iblocka\"\nbody = str(body)\n\n#Request URL \nFaceApiCreatePerson = 'https://eastus.api.cognitive.microsoft.com/face/v1.0/persongroups/'+personGroupId+'/persons' \n\ntry:\n    # REST Call \n    response = requests.post(FaceApiCreatePerson, data=body, headers=headers) \n    responseJson = response.json()\n    personId = responseJson[\"personId\"]\n    print(\"PERSON ID: \"+str(personId))\n    \nexcept Exception as e:\n    print(e)\n    \n#Add Training Images of Serge Ibaka\n# 5 random images of Serge\nImageList = ['http://ssref.net/scripts/image_resize.cgi?min=200&url=https://d2cwpp38twqe55.cloudfront.net/req/201907151/images/players/ibakase01.jpg',\n             'https://cdn.vox-cdn.com/thumbor/mR0AA5h1W3toydLS5r6mbx1wdYo=/0x0:3297x4592/1200x800/filters:focal(2165x786:2691x1312)/cdn.vox-cdn.com/uploads/chorus_image/image/61836547/usa_today_11311064.0.jpg',\n             'https://cdn.vox-cdn.com/thumbor/XLkrzx9Yn6UqC2Fpk-1jykzu0rs=/0x0:768x576/1200x800/filters:focal(292x41:414x163)/cdn.vox-cdn.com/uploads/chorus_image/image/58288799/Ibaka_2.0.jpg',\n             'https://www.nba.com/raptors/sites/raptors/files/styles/story_main_photo/public/serge-ibaka756x450.png',\n             'https://s.yimg.com/ny/api/res/1.2/7qvC_q9CtForO14n5SIgMw--~A/YXBwaWQ9aGlnaGxhbmRlcjtzbT0xO3c9ODAw/https://img.huffingtonpost.com/asset/5cd243ff20000051001c2485.jpeg']\n\n#Request URL \nFaceApiCreatePerson = 'https://eastus.api.cognitive.microsoft.com/face/v1.0/persongroups/'+personGroupId+'/persons/'+personId+'/persistedFaces' \n\nfor image in ImageList:\n    body = dict()\n    body[\"url\"] = image\n    body = str(body)\n\n    try:\n        # REST Call \n        response = requests.post(FaceApiCreatePerson, data=body, headers=headers) \n        responseJson = response.json()\n        persistedFaceId = responseJson['persistedFaceId']\n        print(\"PERSISTED FACE ID: \"+str(persistedFaceId))\n    \n    except Exception as e:\n        print(e)\n    ",
      "execution_count": 5,
      "outputs": [
        {
          "output_type": "stream",
          "text": "PERSON ID: c8c22023-8894-4084-91ea-690f1b55996b\nPERSISTED FACE ID: a6ff41c6-fcda-4335-bccd-979533a8e2f3\nPERSISTED FACE ID: d811be5c-16b2-44fa-8fab-062ffb3375d1\nPERSISTED FACE ID: 50020258-6d57-41b1-b3f2-b9dfbb3e5977\nPERSISTED FACE ID: cafc74f6-b8c4-46fc-9dbe-b1b1b6247112\nPERSISTED FACE ID: ad9906d1-1e9d-4a25-bb9c-cc4ba169dcd4\n",
          "name": "stdout"
        }
      ]
    },
    {
      "metadata": {
        "trusted": true
      },
      "cell_type": "code",
      "source": "#Add Pascal Siakam to the Person Group \n\n#Request Body\nbody = dict()\nbody[\"name\"] = \"Pascal Siakam\"\nbody[\"userData\"] = \"Spicy P\"\nbody = str(body)\n\n#Request URL \nFaceApiCreatePerson = 'https://eastus.api.cognitive.microsoft.com/face/v1.0/persongroups/'+personGroupId+'/persons' \n\ntry:\n    # REST Call \n    response = requests.post(FaceApiCreatePerson, data=body, headers=headers) \n    responseJson = response.json()\n    personId = responseJson[\"personId\"]\n    print(\"PERSON ID: \"+str(personId))\n    \nexcept Exception as e:\n    print(e)\n    \n#Add Training Images of Serge Ibaka\n# 5 random images of Serge\nImageList = ['http://ssref.net/scripts/image_resize.cgi?min=200&url=https://d2cwpp38twqe55.cloudfront.net/req/201907151/images/players/siakapa01.jpg', \n             'https://img-s-msn-com.akamaized.net/tenant/amp/entityid/BBV61tc.img', \n             'https://i.cbc.ca/1.5158312.1559335519!/fileImage/httpImage/image.jpg_gen/derivatives/original_780/pascal-siakam.jpg', \n             'https://www.sportsnet.ca/wp-content/uploads/2019/05/Pascal-Siakam-6.jpg', \n            'https://www.tsn.ca/polopoly_fs/1.1013215!/fileimage/httpImage/image.jpg_gen/derivatives/landscape_620/pascal-siakam.jpg']\n#Request URL \nFaceApiCreatePerson = 'https://eastus.api.cognitive.microsoft.com/face/v1.0/persongroups/'+personGroupId+'/persons/'+personId+'/persistedFaces' \n\nfor image in ImageList:\n    body = dict()\n    body[\"url\"] = image\n    body = str(body)\n\n    try:\n        # REST Call \n        response = requests.post(FaceApiCreatePerson, data=body, headers=headers) \n        responseJson = response.json()\n        persistedFaceId = responseJson['persistedFaceId']\n        print(\"PERSISTED FACE ID: \"+str(persistedFaceId))\n    \n    except Exception as e:\n        print(e)\n    ",
      "execution_count": 6,
      "outputs": [
        {
          "output_type": "stream",
          "text": "PERSON ID: b75d31f3-cc86-4cdd-b21b-94234c5bd3b3\nPERSISTED FACE ID: 4e980603-1e04-44ea-8841-c5a05b0b5964\nPERSISTED FACE ID: 4d111bee-a347-4187-bb5b-72729980be38\nPERSISTED FACE ID: 1bf2c19f-9644-4634-83f4-3a7dc79dc0f7\nPERSISTED FACE ID: 9ffaea2e-066a-4045-932e-dd69bdb74ce6\nPERSISTED FACE ID: 30a75496-d04a-4334-88c9-7a9411a16bd6\n",
          "name": "stdout"
        }
      ]
    },
    {
      "metadata": {
        "trusted": true
      },
      "cell_type": "code",
      "source": "#Add Marc Gasol to the Person Group \n\n#Request Body\nbody = dict()\nbody[\"name\"] = \"Marc Gasol\"\nbody[\"userData\"] = \"The Big Burrito\"\nbody = str(body)\n\n#Request URL \nFaceApiCreatePerson = 'https://eastus.api.cognitive.microsoft.com/face/v1.0/persongroups/'+personGroupId+'/persons' \n\ntry:\n    # REST Call \n    response = requests.post(FaceApiCreatePerson, data=body, headers=headers) \n    responseJson = response.json()\n    personId = responseJson[\"personId\"]\n    print(\"PERSON ID: \"+str(personId))\n    \nexcept Exception as e:\n    print(e)\n    \n#Add Training Images of Serge Ibaka\n# 5 random images of Serge\nImageList = \t['https://ak-static.cms.nba.com/wp-content/uploads/headshots/nba/latest/260x190/1627832.png', \n\t            'https://cdn.vox-cdn.com/thumbor/MVm3CnR0gvjcEd_zLLhYJwfdRnM=/0x0:1765x2238/1200x800/filters:focal(779x749:1061x1031)/cdn.vox-cdn.com/uploads/chorus_image/image/61092613/usa_today_10715113.0.jpg',\n\t            'https://cdn.nba.net/nba-drupal-prod/styles/landscape/s3/2017-11/marc-gasol-home-uni-iso.jpg',\n\t            'https://www.bardown.com/polopoly_fs/1.1319977!/fileimage/httpImage/image.jpg_gen/derivatives/landscape_620/marc-gasol.jpg',\n\t            'https://a.espncdn.com/combiner/i?img=/i/headshots/nba/players/full/3206.png']\n\t\n\n#Request URL \nFaceApiCreatePerson = 'https://eastus.api.cognitive.microsoft.com/face/v1.0/persongroups/'+personGroupId+'/persons/'+personId+'/persistedFaces' \n\nfor image in ImageList:\n    body = dict()\n    body[\"url\"] = image\n    body = str(body)\n\n    try:\n        # REST Call \n        response = requests.post(FaceApiCreatePerson, data=body, headers=headers) \n        responseJson = response.json()\n        persistedFaceId = responseJson['persistedFaceId']\n        print(\"PERSISTED FACE ID: \"+str(persistedFaceId))\n    \n    except Exception as e:\n        print(e)\n    ",
      "execution_count": 7,
      "outputs": [
        {
          "output_type": "stream",
          "text": "PERSON ID: a199eb0f-7286-41ef-b648-64c935679822\nPERSISTED FACE ID: 6c7618d9-4763-4a00-8ad0-aa9cdf952afe\nPERSISTED FACE ID: 72e9d333-6e3b-4794-90c2-405a2ead8c7c\nPERSISTED FACE ID: 757ef2d6-70fd-499d-b237-23d0991460ae\nPERSISTED FACE ID: 2da1d46f-6ee8-4b78-b4f7-54d946196bb1\nPERSISTED FACE ID: a820714f-90bd-4fc2-8683-8563ec7f77ea\n",
          "name": "stdout"
        }
      ]
    },
    {
      "metadata": {
        "trusted": true
      },
      "cell_type": "code",
      "source": "#Add Danny Green to the Person Group \n\n#Request Body\nbody = dict()\nbody[\"name\"] = \"Danny Green\"\nbody[\"userData\"] = \"--\"\nbody = str(body)\n\n#Request URL \nFaceApiCreatePerson = 'https://eastus.api.cognitive.microsoft.com/face/v1.0/persongroups/'+personGroupId+'/persons' \n\ntry:\n    # REST Call \n    response = requests.post(FaceApiCreatePerson, data=body, headers=headers) \n    responseJson = response.json()\n    personId = responseJson[\"personId\"]\n    print(\"PERSON ID: \"+str(personId))\n    \nexcept Exception as e:\n    print(e)\n    \n#Add Training Images of Serge Ibaka\n# 5 random images of Serge\nImageList = \t['https://thumbor.forbes.com/thumbor/960x0/https%3A%2F%2Fspecials-images.forbesimg.com%2Fdam%2Fimageserve%2F1139411952%2F960x0.jpg',\n                 'https://a.espncdn.com/combiner/i?img=/i/headshots/nba/players/full/3988.png', \n                'https://cdn.vox-cdn.com/thumbor/6DiGQzkqHigJiWVnOO8RDIPUibA=/0x0:620x413/1200x800/filters:focal(253x120:351x218)/cdn.vox-cdn.com/uploads/chorus_image/image/61537883/Danny.0.jpeg',\n                'https://postmediaprovince2.files.wordpress.com/2018/09/raptors.jpg',\n                'https://images.glaciermedia.ca/polopoly_fs/1.23847028.1559839803!/fileImage/httpImage/image.png_gen/derivatives/landscape_804/basketball.png']\n\n#Request URL \nFaceApiCreatePerson = 'https://eastus.api.cognitive.microsoft.com/face/v1.0/persongroups/'+personGroupId+'/persons/'+personId+'/persistedFaces' \n\nfor image in ImageList:\n    body = dict()\n    body[\"url\"] = image\n    body = str(body)\n\n    try:\n        # REST Call \n        response = requests.post(FaceApiCreatePerson, data=body, headers=headers) \n        responseJson = response.json()\n        persistedFaceId = responseJson['persistedFaceId']\n        print(\"PERSISTED FACE ID: \"+str(persistedFaceId))\n    \n    except Exception as e:\n        print(e)\n    ",
      "execution_count": 10,
      "outputs": [
        {
          "output_type": "stream",
          "text": "PERSON ID: 6b99dd65-eab9-4b28-aaed-1f22db7a2a8c\nPERSISTED FACE ID: b469d067-2da8-4aa5-9745-dff9405724d7\nPERSISTED FACE ID: eb467028-1e6b-4a71-88b8-89c4c8969dff\nPERSISTED FACE ID: 04dd5d4c-6b3f-4126-9ccb-c158c4b4080f\nPERSISTED FACE ID: 4c833c6d-b427-4f13-b056-5d3a3df91cdc\nPERSISTED FACE ID: ae609dfb-6383-4f49-b060-6c5bfa6e5f21\n",
          "name": "stdout"
        }
      ]
    },
    {
      "metadata": {
        "trusted": true
      },
      "cell_type": "code",
      "source": "#Add Fred VanVleet to the Person Group \n\n#Request Body\nbody = dict()\nbody[\"name\"] = \"Fred VanVleet\"\nbody[\"userData\"] = \"Steady Freddy\"\nbody = str(body)\n\n#Request URL \nFaceApiCreatePerson = 'https://eastus.api.cognitive.microsoft.com/face/v1.0/persongroups/'+personGroupId+'/persons' \n\ntry:\n    # REST Call \n    response = requests.post(FaceApiCreatePerson, data=body, headers=headers) \n    responseJson = response.json()\n    personId = responseJson[\"personId\"]\n    print(\"PERSON ID: \"+str(personId))\n    \nexcept Exception as e:\n    print(e)\n    \n#Add Training Images of Serge Ibaka\n# 5 random images of Serge\nImageList = ['http://ssref.net/scripts/image_resize.cgi?min=200&url=https://d2cwpp38twqe55.cloudfront.net/req/201907151/images/players/vanvlfr01.jpg',\n             'https://clutchpoints.com/wp-content/uploads/2019/06/Fred-VanVleet-says-_if-that_s-what-being-a-Canadian-means-I-don_t-want-it_-on-losing-a-tooth.jpg',\n             'https://upload.wikimedia.org/wikipedia/commons/c/cc/Fred_VanVleet_2018.jpg',\n             'https://images.performgroup.com/di/library/NBA_Global_CMS_image_storage/66/f4/fred-vanvleet-120818-ftr-gettyjpg_140sjviparg8i1otwtqye850go.jpg',\n             'https://www.theglobeandmail.com/resizer/q1E1WxgxEnwrKmMHJFAQtn43yjU=/620x0/filters:quality(80)/arc-anglerfish-tgam-prod-tgam.s3.amazonaws.com/public/JR5KG2LB7ZBONCHK6ZNSS4OIHY.jpg']\n\n\n#Request URL \nFaceApiCreatePerson = 'https://eastus.api.cognitive.microsoft.com/face/v1.0/persongroups/'+personGroupId+'/persons/'+personId+'/persistedFaces' \n\nfor image in ImageList:\n    body = dict()\n    body[\"url\"] = image\n    body = str(body)\n\n    try:\n        # REST Call \n        response = requests.post(FaceApiCreatePerson, data=body, headers=headers) \n        responseJson = response.json()\n        persistedFaceId = responseJson['persistedFaceId']\n        print(\"PERSISTED FACE ID: \"+str(persistedFaceId))\n    \n    except Exception as e:\n        print(e)",
      "execution_count": 11,
      "outputs": [
        {
          "output_type": "stream",
          "text": "PERSON ID: 02da7659-5c0c-40ae-89e9-becac40e6add\nPERSISTED FACE ID: 047acead-050b-463f-9fa3-fe86ffacc0f9\nPERSISTED FACE ID: 88034607-0750-4573-bf01-838d91554a81\nPERSISTED FACE ID: 56e88ffc-0355-492d-8c29-fc428c589bd9\nPERSISTED FACE ID: 0e327abe-6cc9-475a-b738-c83cd1409f01\nPERSISTED FACE ID: 4d162fd3-fd10-4b1e-b035-96353a2ccfc5\n",
          "name": "stdout"
        }
      ]
    },
    {
      "metadata": {
        "trusted": true
      },
      "cell_type": "code",
      "source": "#Add Kyle Lowry to the Person Group \n\n#Request Body\nbody = dict()\nbody[\"name\"] = \"Kyle Lowry\"\nbody[\"userData\"] = \"North Philly's Finest\"\nbody = str(body)\n\n#Request URL \nFaceApiCreatePerson = 'https://eastus.api.cognitive.microsoft.com/face/v1.0/persongroups/'+personGroupId+'/persons' \n\ntry:\n    # REST Call \n    response = requests.post(FaceApiCreatePerson, data=body, headers=headers) \n    responseJson = response.json()\n    personId = responseJson[\"personId\"]\n    print(\"PERSON ID: \"+str(personId))\n    \nexcept Exception as e:\n    print(e)\n    \n#Add Training Images of Kyle\n# 5 random images\nImageList = \t['https://a.espncdn.com/combiner/i?img=/i/headshots/nba/players/full/3012.png',\n\t            'https://www.sportsnet.ca/wp-content/uploads/2018/11/NBA-Raptors-Lowry-reacts-after-shot-against-Pelicans-1040x572.jpg',\n\t            'https://d.newsweek.com/en/full/726799/toronto-raptors-point-guard-kyle-lowry.jpg',\n\t            'http://hoopeduponline.com/wp-content/uploads/2015/11/Roots-x-Kyle-Lowry-Collection-hat.jpg',\n\t            'https://www.nbcsports.com/philadelphia/sites/csnphilly/files/styles/article_hero_image/public/2019/02/05/usa_kyle_lowry_raptors.jpg']\n\t\n#Request URL \nFaceApiCreatePerson = 'https://eastus.api.cognitive.microsoft.com/face/v1.0/persongroups/'+personGroupId+'/persons/'+personId+'/persistedFaces' \n\nfor image in ImageList:\n    body = dict()\n    body[\"url\"] = image\n    body = str(body)\n\n    try:\n        # REST Call \n        response = requests.post(FaceApiCreatePerson, data=body, headers=headers) \n        responseJson = response.json()\n        persistedFaceId = responseJson['persistedFaceId']\n        print(\"PERSISTED FACE ID: \"+str(persistedFaceId))\n    \n    except Exception as e:\n        print(e)",
      "execution_count": 13,
      "outputs": [
        {
          "output_type": "stream",
          "text": "PERSON ID: 70389954-3893-4e07-a332-586476be7df1\nPERSISTED FACE ID: fa383f0d-97ac-4445-bc84-8086659c4af3\nPERSISTED FACE ID: eb57662c-6383-4b4a-ad21-0a4dad4bbfef\nPERSISTED FACE ID: 620055b8-5865-498e-83be-07b837535558\nPERSISTED FACE ID: da1a61cd-5457-4aa1-8c7d-438246eb6df9\nPERSISTED FACE ID: 370393a6-c6e9-40aa-915e-212be2ef00e5\n",
          "name": "stdout"
        }
      ]
    },
    {
      "metadata": {
        "trusted": true
      },
      "cell_type": "code",
      "source": "#Add Kahwi Leonard to the Person Group \n\n#Request Body\nbody = dict()\nbody[\"name\"] = \"Kahwi Leonard\"\nbody[\"userData\"] = \"Fun Guy\"\nbody = str(body)\n\n#Request URL \nFaceApiCreatePerson = 'https://eastus.api.cognitive.microsoft.com/face/v1.0/persongroups/'+personGroupId+'/persons' \n\ntry:\n    # REST Call \n    response = requests.post(FaceApiCreatePerson, data=body, headers=headers) \n    responseJson = response.json()\n    personId = responseJson[\"personId\"]\n    print(\"PERSON ID: \"+str(personId))\n    \nexcept Exception as e:\n    print(e)\n    \n#Add Training Images of Kyle\n# 5 random images\nImageList = \t['https://a.espncdn.com/combiner/i?img=/i/headshots/nba/players/full/6450.png', \n                 'https://terezowens.com/wp-content/uploads/2016/11/kawhi-leonard-basketball-headshot-photo.jpg',\n                 'https://res.cloudinary.com/tsl/image/upload/s--sk7RG7JZ--/c_scale,w_600/v1555087169/Kawhi-Leonard-getty-images.jpg',\n                 'http://image.nj.com/home/njo-media/width600/img/sixers_main/photo/kawhi-leonard-ca88ec611c5a450d.jpg',\n                 'https://www.gannett-cdn.com/-mm-/8f998197fb88e2c51a23e28d092601f456364f19/c=0-39-1000-601/local/-/media/2019/07/03/USATODAY/usatsports/kawhi11.jpg']\n#Request URL \nFaceApiCreatePerson = 'https://eastus.api.cognitive.microsoft.com/face/v1.0/persongroups/'+personGroupId+'/persons/'+personId+'/persistedFaces' \n\nfor image in ImageList:\n    body = dict()\n    body[\"url\"] = image\n    body = str(body)\n\n    try:\n        # REST Call \n        response = requests.post(FaceApiCreatePerson, data=body, headers=headers) \n        responseJson = response.json()\n        persistedFaceId = responseJson['persistedFaceId']\n        print(\"PERSISTED FACE ID: \"+str(persistedFaceId))\n    \n    except Exception as e:\n        print(e)",
      "execution_count": 14,
      "outputs": [
        {
          "output_type": "stream",
          "text": "PERSON ID: 78bf9f45-a46b-4c62-aa4f-28cf42302f5f\nPERSISTED FACE ID: aa280263-acb2-4d7f-a414-369452ef4051\nPERSISTED FACE ID: 4364429c-0e7d-41e0-95dc-9c0b07d3a52e\nPERSISTED FACE ID: e80f0b9d-1251-46a1-b7e0-d48281edb3a0\nPERSISTED FACE ID: 2add42a5-bd05-46e2-bd52-cf3098bcb3a3\nPERSISTED FACE ID: a7437d4c-3d64-4650-9070-8835fa73aecd\n",
          "name": "stdout"
        }
      ]
    },
    {
      "metadata": {},
      "cell_type": "markdown",
      "source": "## Train the Model \nUsing [PersonGroup - Train API](https://westus.dev.cognitive.microsoft.com/docs/services/563879b61984550e40cbbe8d/operations/563879b61984550f30395249), train the API on the uploaded images. \nNote that this may take a few minutes. "
    },
    {
      "metadata": {
        "trusted": true
      },
      "cell_type": "code",
      "source": "#Request Body\nbody = dict()\n\n#Request URL \nFaceApiTrain = 'https://eastus.api.cognitive.microsoft.com/face/v1.0/persongroups/'+personGroupId+'/train'\n\ntry:\n    # REST Call \n    response = requests.post(FaceApiTrain, data=body, headers=headers) \n    print(\"RESPONSE:\" + str(response.status_code))\n\nexcept Exception as e:\n    print(e)",
      "execution_count": 15,
      "outputs": [
        {
          "output_type": "stream",
          "text": "RESPONSE:202\n",
          "name": "stdout"
        }
      ]
    },
    {
      "metadata": {},
      "cell_type": "markdown",
      "source": "## Test the Model \nWe will do this in a few steps: \n1. Select an image to test and run it through the Detect API in order to get a Face ID\n2. Use the Face ID to run the Face Identity API to get the Person ID and Confidence Level (similarity percentage)\n3. Use the returned Person ID to Access the Name of the player\n\nVariables to Change: \n* body[\"url\"] : an image of someone from an online source\n* body[\"maxNumOfCandidatesReturned\"] = The number of results you want (I only want one match so I set it to 1)\n* body[\"confidenceThreshold\"] = How confident you want the model to be before returning a result. (I know there won't be much resemblance, so I set it to 0)"
    },
    {
      "metadata": {
        "trusted": true
      },
      "cell_type": "code",
      "source": "# Request Body\nbody = dict()\nbody[\"url\"] = \"https://www.canadianbusiness.com/wp-content/uploads/2018/08/G500_Speaker_Harp_Girn.png\"\nbody = str(body)\n\n# Request URL \nFaceApiDetect = 'https://eastus.api.cognitive.microsoft.com/face/v1.0/detect?returnFaceId=true' \n\ntry:\n    # REST Call \n    response = requests.post(FaceApiDetect, data=body, headers=headers) \n    responseJson = response.json()\n    faceId = responseJson[0][\"faceId\"]\n    print(\"SMB FACE ID: \"+str(faceId))\n\nexcept Exception as e:\n    print(e)",
      "execution_count": 17,
      "outputs": [
        {
          "output_type": "stream",
          "text": "SMB FACE ID: bad8c5d8-f9f9-481d-9791-87bca4be436b\n",
          "name": "stdout"
        }
      ]
    },
    {
      "metadata": {
        "slideshow": {
          "slide_type": "slide"
        },
        "trusted": true
      },
      "cell_type": "code",
      "source": "#Identify\nfaceIdsList = [faceId]\n\n# Request Body\nbody = dict()\nbody[\"personGroupId\"] = personGroupId\nbody[\"faceIds\"] = faceIdsList\nbody[\"maxNumOfCandidatesReturned\"] = 1 \nbody[\"confidenceThreshold\"] = 0\nbody = str(body)\n\n# Request URL \nFaceApiIdentify = 'https://eastus.api.cognitive.microsoft.com/face/v1.0/identify' \n\ntry:\n    # REST Call \n    response = requests.post(FaceApiIdentify, data=body, headers=headers) \n    responseJson = response.json()\n    personId = responseJson[0][\"candidates\"][0][\"personId\"]\n    confidence = responseJson[0][\"candidates\"][0][\"confidence\"]\n    print(\"PERSON ID: \"+str(personId)+ \", CONFIDENCE :\"+str(confidence))\n        \nexcept Exception as e:\n    print(\"Could not detect\")",
      "execution_count": 18,
      "outputs": [
        {
          "output_type": "stream",
          "text": "PERSON ID: 02da7659-5c0c-40ae-89e9-becac40e6add, CONFIDENCE :0.19697\n",
          "name": "stdout"
        }
      ]
    },
    {
      "metadata": {
        "trusted": true
      },
      "cell_type": "code",
      "source": "#Get \n# Request URL \nFaceApiGetPerson = 'https://eastus.api.cognitive.microsoft.com/face/v1.0/persongroups/'+personGroupId+'/persons/'+personId\n\ntry:\n    response = requests.get(FaceApiGetPerson, headers=headers) \n    responseJson = response.json()\n    print(\"This is \"+str(responseJson[\"name\"]))\n    \nexcept Exception as e:\n    print(e)",
      "execution_count": 19,
      "outputs": [
        {
          "output_type": "stream",
          "text": "This is Fred VanVleet\n",
          "name": "stdout"
        }
      ]
    },
    {
      "metadata": {
        "trusted": true
      },
      "cell_type": "code",
      "source": "# load all player images into the project for printing later \n! curl -o images/testperson.jpg \"https://pbs.twimg.com/profile_images/822452623882076162/mk5SrJLQ.jpg\"\n\n! curl -o images/fred.png \"https://a.espncdn.com/combiner/i?img=/i/headshots/nba/players/full/2991230.png\"\n! curl -o images/kahwi.png 'https://b.fssta.com/uploads/application/nba/headshots/1729.vresize.350.425.medium.15.png'\n! curl -o images/pascal.png \"https://assets1.sportsnet.ca/wp-content/uploads/players/nba/p/pascal-siakam.png\"\n! curl -o images/marc.png \"https://a.espncdn.com/combiner/i?img=/i/headshots/nba/players/full/3206.png\"\n! curl -o images/serge.png \"https://a.espncdn.com/combiner/i?img=/i/headshots/nba/players/full/3439.png\"\n! curl -o images/danny.png \"https://a.espncdn.com/combiner/i?img=/i/headshots/nba/players/full/3988.png\"\n! curl -o images/kyle.png \"https://www.nicepng.com/png/detail/112-1125430_kyle-lowry-and-demar-derozan-never-before-have.png\"",
      "execution_count": 65,
      "outputs": [
        {
          "output_type": "stream",
          "text": "  % Total    % Received % Xferd  Average Speed   Time    Time     Time  Current\n                                 Dload  Upload   Total   Spent    Left  Speed\n100 86406  100 86406    0     0   188k      0 --:--:-- --:--:-- --:--:--  188k\n  % Total    % Received % Xferd  Average Speed   Time    Time     Time  Current\n                                 Dload  Upload   Total   Spent    Left  Speed\n100  438k  100  438k    0     0  1378k      0 --:--:-- --:--:-- --:--:-- 1391k\n  % Total    % Received % Xferd  Average Speed   Time    Time     Time  Current\n                                 Dload  Upload   Total   Spent    Left  Speed\n100  148k  100  148k    0     0   534k      0 --:--:-- --:--:-- --:--:--  538k\n  % Total    % Received % Xferd  Average Speed   Time    Time     Time  Current\n                                 Dload  Upload   Total   Spent    Left  Speed\n100  237k  100  237k    0     0   497k      0 --:--:-- --:--:-- --:--:--  499k\n  % Total    % Received % Xferd  Average Speed   Time    Time     Time  Current\n                                 Dload  Upload   Total   Spent    Left  Speed\n100  284k  100  284k    0     0  1014k      0 --:--:-- --:--:-- --:--:-- 1037k\n  % Total    % Received % Xferd  Average Speed   Time    Time     Time  Current\n                                 Dload  Upload   Total   Spent    Left  Speed\n100  427k  100  427k    0     0  1678k      0 --:--:-- --:--:-- --:--:-- 1695k\n  % Total    % Received % Xferd  Average Speed   Time    Time     Time  Current\n                                 Dload  Upload   Total   Spent    Left  Speed\n100  266k  100  266k    0     0  1194k      0 --:--:-- --:--:-- --:--:-- 1212k\n  % Total    % Received % Xferd  Average Speed   Time    Time     Time  Current\n                                 Dload  Upload   Total   Spent    Left  Speed\n100  187k  100  187k    0     0   275k      0 --:--:-- --:--:-- --:--:--  275k\n",
          "name": "stdout"
        }
      ]
    },
    {
      "metadata": {
        "trusted": true
      },
      "cell_type": "code",
      "source": "from IPython.display import HTML, display\ndisplay(HTML(\"<table><tr><td><img src='images/testperson.jpg'></td><td><img src='images/serge.png'></td></tr></table>\"))",
      "execution_count": 66,
      "outputs": [
        {
          "output_type": "display_data",
          "data": {
            "text/html": "<table><tr><td><img src='images/testperson.jpg'></td><td><img src='images/serge.png'></td></tr></table>",
            "text/plain": "<IPython.core.display.HTML object>"
          },
          "metadata": {}
        }
      ]
    },
    {
      "metadata": {
        "trusted": true
      },
      "cell_type": "code",
      "source": "",
      "execution_count": null,
      "outputs": []
    }
  ],
  "metadata": {
    "kernelspec": {
      "name": "python3",
      "display_name": "Python 3",
      "language": "python"
    },
    "language_info": {
      "mimetype": "text/x-python",
      "nbconvert_exporter": "python",
      "name": "python",
      "pygments_lexer": "ipython3",
      "version": "3.5.4",
      "file_extension": ".py",
      "codemirror_mode": {
        "version": 3,
        "name": "ipython"
      }
    }
  },
  "nbformat": 4,
  "nbformat_minor": 2
}